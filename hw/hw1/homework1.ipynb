{
 "cells": [
  {
   "cell_type": "markdown",
   "metadata": {},
   "source": [
    "# Homework 1\n",
    "## Deadline: Jan 27, 2024\n",
    "\n",
    "### Instructions\n",
    "Submit one Python notebook file for grading. Your file must include mathematical work (type it or insert pictures of your handwritten work), **text expalanations** of your work, **well-commented code**, and the **outputs** from your code."
   ]
  },
  {
   "cell_type": "markdown",
   "metadata": {},
   "source": [
    "## Problems"
   ]
  },
  {
   "cell_type": "markdown",
   "metadata": {},
   "source": []
  },
  {
   "cell_type": "markdown",
   "metadata": {},
   "source": [
    "1. Ridge regression is a modified version of linear regression that penelizes the coefficients for being large. It accomplishes this by adding a so-called $L^2$ penalty term to the loss function (e.g. mean squared error): $L(\\theta)=\\frac{1}{n}\\sum\\limits_{i=1}^n \\left(\\hat{f}(x_i)-y_i\\right)^2 + \\lambda\\sum\\limits_{i=1}^d \\theta_i^2$\n",
    "\n",
    "    where $\\lambda>0$ is a **hyperparameter** that must be tuned by the user. An appropriate choice of $\\lambda$ can often help with learning datasets where the input features are highly correlated or it can help with an overfitting problem.\n",
    "\n",
    "     a. **[5 points]** Write each part of $L(\\theta)$ in matrix-vector form where $\\hat{f}$ is a LBF expansion regression model. Define each matrix and vector separately by writing their elements with subscripts, and state their dimensions."
   ]
  },
  {
   "cell_type": "markdown",
   "metadata": {},
   "source": [
    "Ridge Regression = $L(\\theta)=\\frac{1}{n}\\sum\\limits_{i=1}^n \\left(\\hat{f}(x_i)-y_i\\right)^2 + \\lambda\\sum\\limits_{i=1}^d \\theta_i^2$\n",
    "\n",
    "<!-- Loss Function = $\\frac{1}{n}\\sum\\limits_{i=1}^n \\left(\\hat{f}(x_i)-y_i\\right)^2$\n",
    "\n",
    "$L^2$ Penalty Term = $\\lambda\\sum\\limits_{i=1}^d \\theta_i^2$ -->\n",
    "\n",
    "\n",
    "\n",
    "$$X = \\begin{bmatrix}\n",
    "x_1 & ... & x_n\\\\\n",
    "... & ... & ... \\\\\n",
    "x_d & ... & x_{nd}\\\\\n",
    "\\end{bmatrix}$$\n",
    "\n",
    "$$X_h = \\begin{bmatrix}\n",
    "h_0(x_1) & ... & h_M(x_1)\\\\\n",
    "... & ... & ... \\\\\n",
    "h_0(x_c) & ... & h_M(x_{n})\\\\\n",
    "\\end{bmatrix}$$\n",
    "\n",
    "$\\hat{f}(X) = X_h(\\theta)$\n",
    "\n",
    "$L(\\theta) = \\frac{1}{n}||X_h\\theta - y||^2_2 + \\lambda\\theta^T\\theta$\n"
   ]
  },
  {
   "cell_type": "markdown",
   "metadata": {},
   "source": [
    "b. **[5 points]** Solve the following optimization problem by hand for the loss function $L$ above $\\min\\limits_{\\theta\\in\\mathbb{R}^{d+1}} L(\\theta)$"
   ]
  },
  {
   "cell_type": "markdown",
   "metadata": {},
   "source": []
  },
  {
   "cell_type": "markdown",
   "metadata": {},
   "source": [
    "c. **[5 points]** Write a Python class for this ridge LBF expansion regression model with a `fit` function applying the formula from part (b) to compute the parameters $\\theta$ and a `predict` function to make predictions for input data after the model has been fit."
   ]
  },
  {
   "cell_type": "code",
   "execution_count": null,
   "metadata": {},
   "outputs": [],
   "source": []
  },
  {
   "cell_type": "markdown",
   "metadata": {},
   "source": [
    "2. Use the details about houses in a real estate dataset and attempt to predict the list price for the houses. Use the [Mount Pleasant Real Estate dataset](https://www.hawkeslearning.com/Statistics/dis/datasets.html).\n",
    "\n",
    "    a. **[5 points]** Read the dataset into Python and preprocess data excluding the \"Misc Exterior\" and \"Amenities\" columns into an appropriate data matrix for regression analysis. Randomly split the data into a training set, validation set, and test set at 60\\%/20\\%/20\\%.\n"
   ]
  },
  {
   "cell_type": "code",
   "execution_count": 36,
   "metadata": {},
   "outputs": [],
   "source": [
    "'''\n",
    "\n",
    "This cell is used to import the data from an excel file and store the data in a Pandas dataframe.\n",
    "Once data is in a pandas dataframe the data is cleaned to make all cells contain a numeric value\n",
    "rather than a string. Once all data prepation has been completed the data is split into train,\n",
    "test, and validate sets.\n",
    "\n",
    "'''\n",
    "\n",
    "import pandas as pd\n",
    "from sklearn.model_selection import train_test_split\n",
    "\n",
    "path_to_file = \"/Users/spencerhirsch/Documents/GitHub/senior/mlwhite/hw/hw1/Mount_Pleasant_Real_Estate_Data.xlsx\"\n",
    "data = pd.read_excel(path_to_file)      # Take in file as excel file.\n",
    "\n",
    "'''\n",
    "The following code takes all values that contain the same string as identifiers and transforms them\n",
    "into boolean values by adding new columns to the table. In addition to this, all boolean values are\n",
    "represented as 1 for True and 0 for False. This was done to ensure that all values contained in the\n",
    "table were numeric values.\n",
    "'''\n",
    "\n",
    "data = pd.get_dummies(data, columns=[\"Subdivision\", \"House Style\"], drop_first=True)\n",
    "data = data.drop(columns=[\"Misc Exterior\", \"Amenities\", \"ID\"])\n",
    "data = data.dropna()\n",
    "data = data.replace({\"Yes\": 1, \"No\": 0})\n",
    "data = data.astype(float)\n",
    "print(data)\n",
    "\n",
    "\n",
    "dataY = data[\"List Price\"].to_numpy()                           # Dependent Variable saved as Y\n",
    "dataX = data.drop(columns = [\"List Price\"]).to_numpy()          # Determinants saved as X\n",
    "\n",
    "trainX, testX, trainY, testY = train_test_split(dataX, dataY, test_size = 0.4, random_state = 1)\n",
    "valX, testX, valY, testY = train_test_split(testX, testY, test_size = 0.5, random_state=1)"
   ]
  },
  {
   "cell_type": "markdown",
   "metadata": {},
   "source": [
    "b. **[5 points]** Fit the least squares hyperplane to the training set to predict house prices, and evaluate its fit on the validation set."
   ]
  },
  {
   "cell_type": "code",
   "execution_count": 46,
   "metadata": {},
   "outputs": [
    {
     "name": "stdout",
     "output_type": "stream",
     "text": [
      "The mean absolute error on the training set is 61132.35365541476\n",
      "\n",
      "The mean absolute error on the validation set is 74602.94721962644\n"
     ]
    }
   ],
   "source": [
    "from sklearn.linear_model import LinearRegression\n",
    "from sklearn.metrics import mean_absolute_error\n",
    "\n",
    "model = LinearRegression()\n",
    "\n",
    "model.fit(trainX, trainY)\n",
    "\n",
    "# return the predicted outputs for the datapoints in the training set\n",
    "trainPredictions = model.predict(trainX)\n",
    "# print(trainPredictions)\n",
    "print('The mean absolute error on the training set is', mean_absolute_error(trainY, trainPredictions))\n",
    "print()\n",
    "predictions = model.predict(valX)\n",
    "# print(predictions)\n",
    "print('The mean absolute error on the validation set is', mean_absolute_error(valY, predictions))"
   ]
  },
  {
   "cell_type": "markdown",
   "metadata": {},
   "source": [
    "c. **[5 points]** Fit a ridge regression to the training set to predict house prices, and evaluate its fit on the validation set. Repeat this for several different values of $\\lambda$."
   ]
  },
  {
   "cell_type": "code",
   "execution_count": 49,
   "metadata": {},
   "outputs": [
    {
     "name": "stdout",
     "output_type": "stream",
     "text": [
      "The mean absolute error when λ = 0 on the validation set is 74602.94721962644\n",
      "The mean absolute error when λ = 0.1 on the validation set is 74602.94721962644\n",
      "The mean absolute error when λ = 1 on the validation set is 74602.94721962644\n",
      "The mean absolute error when λ = 2 on the validation set is 74602.94721962644\n",
      "The mean absolute error when λ = 5 on the validation set is 74602.94721962644\n",
      "The mean absolute error when λ = 10 on the validation set is 74602.94721962644\n"
     ]
    }
   ],
   "source": [
    "from sklearn.linear_model import Ridge\n",
    "\n",
    "lambdas = [0, 0.1, 1, 2, 5, 10]\n",
    "for λ in lambdas:\n",
    "    model = Ridge(alpha=λ)\n",
    "    model.fit(trainX, trainY)\n",
    "    prediction = model.predict(valX)\n",
    "    print('The mean absolute error when λ = %s on the validation set is %s' % (λ, str(mean_absolute_error(valY, predictions))))"
   ]
  },
  {
   "cell_type": "markdown",
   "metadata": {},
   "source": [
    "d. **[5 points]** Fit an LBF expansion of your choice to the training set to predict house prices, and evaluate its fit on the validation set. Repeat this for several different values of $\\lambda$"
   ]
  },
  {
   "cell_type": "code",
   "execution_count": 146,
   "metadata": {},
   "outputs": [
    {
     "name": "stdout",
     "output_type": "stream",
     "text": [
      "0\n",
      "0.1\n",
      "1\n",
      "2\n",
      "5\n",
      "10\n"
     ]
    }
   ],
   "source": [
    "from sklearn.linear_model import Ridge\n",
    "from sklearn.preprocessing import PolynomialFeatures\n",
    "\n",
    "lambdas = [0, 0.1, 1, 2, 5, 10]\n",
    "for λ in lambdas:\n",
    "    print(λ)"
   ]
  }
 ],
 "metadata": {
  "kernelspec": {
   "display_name": "vehid",
   "language": "python",
   "name": "python3"
  },
  "language_info": {
   "codemirror_mode": {
    "name": "ipython",
    "version": 3
   },
   "file_extension": ".py",
   "mimetype": "text/x-python",
   "name": "python",
   "nbconvert_exporter": "python",
   "pygments_lexer": "ipython3",
   "version": "3.11.5"
  }
 },
 "nbformat": 4,
 "nbformat_minor": 2
}
